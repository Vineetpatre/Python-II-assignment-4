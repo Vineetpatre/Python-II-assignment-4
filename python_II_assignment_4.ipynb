{
  "nbformat": 4,
  "nbformat_minor": 0,
  "metadata": {
    "colab": {
      "provenance": [],
      "collapsed_sections": [],
      "authorship_tag": "ABX9TyN+EF6pSKYtRcQdLKg+8RyP",
      "include_colab_link": true
    },
    "kernelspec": {
      "name": "python3",
      "display_name": "Python 3"
    },
    "language_info": {
      "name": "python"
    }
  },
  "cells": [
    {
      "cell_type": "markdown",
      "metadata": {
        "id": "view-in-github",
        "colab_type": "text"
      },
      "source": [
        "<a href=\"https://colab.research.google.com/github/Vineetpatre/Python-II-assignment-4/blob/main/python_II_assignment_4.ipynb\" target=\"_parent\"><img src=\"https://colab.research.google.com/assets/colab-badge.svg\" alt=\"Open In Colab\"/></a>"
      ]
    },
    {
      "cell_type": "code",
      "execution_count": null,
      "metadata": {
        "id": "0RjKwOq96fBq",
        "colab": {
          "base_uri": "https://localhost:8080/"
        },
        "outputId": "2b079eb0-c3d7-455c-ef12-464f66361843"
      },
      "outputs": [
        {
          "output_type": "stream",
          "name": "stdout",
          "text": [
            "170 20\n"
          ]
        }
      ],
      "source": [
        "#1.Write a Python program to create a Vehicle class with max_speed and mileage instance attributes.\n",
        "class Vehicle:\n",
        "  def __init__(self, max_speed, mileage):\n",
        "    self.max_speed = max_speed\n",
        "    self.mileage = mileage\n",
        "               \n",
        "car = Vehicle(170,20 )\n",
        "print(car.max_speed, car.mileage)"
      ]
    },
    {
      "cell_type": "code",
      "source": [
        "#2.Create a Vehicle class without any variables and methods.\n",
        "class Vehicle:\n",
        "   pass"
      ],
      "metadata": {
        "id": "QoPvLz6Y7Z2v"
      },
      "execution_count": null,
      "outputs": []
    },
    {
      "cell_type": "code",
      "source": [
        "#3.Create a child class Bus that will inherit all of the variables and methods of the Vehicle class.\n",
        "class Vehicle:\n",
        "   def __init__(self, name, max_speed, mileage):                \n",
        "       self.name = name\n",
        "       self.max_speed = max_speed\n",
        "       self.mileage = mileage"
      ],
      "metadata": {
        "id": "XZ1CMZ3j7uX0"
      },
      "execution_count": null,
      "outputs": []
    },
    {
      "cell_type": "code",
      "source": [
        "#4.Create a Bus class that inherits from the Vehicle class. Give the capacity argument of Bus.seating_capacity() a default value of 50.\n",
        "class Vehicle:\n",
        "   def __init__(self, name, mileage, capacity):\n",
        "       self.name = name\n",
        "       self.mileage = mileage\n",
        "       self.capacity = capacity\n",
        "\n",
        "   def fare(self):\n",
        "       return self.capacity * 50\n",
        "\n",
        "class Bus(Vehicle):\n",
        "    pass\n",
        "\n",
        "School_bus = Bus(\"School Volvo\", 10, 94)\n",
        "print(\"Total Bus fare is:\", School_bus.fare())"
      ],
      "metadata": {
        "colab": {
          "base_uri": "https://localhost:8080/"
        },
        "id": "5suWcsGk8AlM",
        "outputId": "9c1626aa-819f-4f37-cf30-99e0b4abe85a"
      },
      "execution_count": null,
      "outputs": [
        {
          "output_type": "stream",
          "name": "stdout",
          "text": [
            "Total Bus fare is: 4700\n"
          ]
        }
      ]
    },
    {
      "cell_type": "code",
      "source": [
        "#5\n",
        "\n",
        "\n"
      ],
      "metadata": {
        "id": "9hfI6QcQ8cB8"
      },
      "execution_count": null,
      "outputs": []
    }
  ]
}